{
 "cells": [
  {
   "cell_type": "code",
   "execution_count": 2,
   "metadata": {},
   "outputs": [],
   "source": [
    "import pandas as pd\n",
    "import numpy as np\n",
    "import seaborn as sns\n",
    "import matplotlib.pyplot as plt\n",
    "\n",
    "import statsmodels.api as sm\n",
    "from sklearn.linear_model import LinearRegression\n",
    "\n",
    "%matplotlib inline\n",
    "\n",
    "df = pd.read_csv('ORIGINAL.movie_first')"
   ]
  },
  {
   "cell_type": "code",
   "execution_count": 2,
   "metadata": {},
   "outputs": [],
   "source": [
    "df = df.drop(columns=['Unnamed: 0'])"
   ]
  },
  {
   "cell_type": "code",
   "execution_count": 3,
   "metadata": {},
   "outputs": [
    {
     "data": {
      "text/html": [
       "<div>\n",
       "<style scoped>\n",
       "    .dataframe tbody tr th:only-of-type {\n",
       "        vertical-align: middle;\n",
       "    }\n",
       "\n",
       "    .dataframe tbody tr th {\n",
       "        vertical-align: top;\n",
       "    }\n",
       "\n",
       "    .dataframe thead th {\n",
       "        text-align: right;\n",
       "    }\n",
       "</style>\n",
       "<table border=\"1\" class=\"dataframe\">\n",
       "  <thead>\n",
       "    <tr style=\"text-align: right;\">\n",
       "      <th></th>\n",
       "      <th>index</th>\n",
       "      <th>FILM_runtime</th>\n",
       "      <th>FILM_oscars_won</th>\n",
       "      <th>FILM_budget</th>\n",
       "      <th>FILM_domestic_gross</th>\n",
       "      <th>FILM_worldwide_gross</th>\n",
       "      <th>FILM_mpaa_rating</th>\n",
       "      <th>BWAY_total_weekly_gross</th>\n",
       "      <th>BWAY_total_potential_gross</th>\n",
       "      <th>BWAY_total_performances</th>\n",
       "      <th>BWAY_total_previews</th>\n",
       "      <th>BWAY_avg_ticket_price</th>\n",
       "      <th>BWAY_avg_capacity</th>\n",
       "      <th>BWAY_avg_top_ticket_price</th>\n",
       "      <th>BWAY_avg_seats_in_theatre</th>\n",
       "      <th>FILM_mpaa_rating_number</th>\n",
       "    </tr>\n",
       "  </thead>\n",
       "  <tbody>\n",
       "    <tr>\n",
       "      <th>index</th>\n",
       "      <td>1.000000</td>\n",
       "      <td>-0.210225</td>\n",
       "      <td>-0.131222</td>\n",
       "      <td>-0.241210</td>\n",
       "      <td>-0.197717</td>\n",
       "      <td>-0.214970</td>\n",
       "      <td>0.038512</td>\n",
       "      <td>-0.347167</td>\n",
       "      <td>-0.352186</td>\n",
       "      <td>-0.361570</td>\n",
       "      <td>-0.226786</td>\n",
       "      <td>-0.202153</td>\n",
       "      <td>-0.219909</td>\n",
       "      <td>-0.092234</td>\n",
       "      <td>-0.315347</td>\n",
       "      <td>0.038512</td>\n",
       "    </tr>\n",
       "    <tr>\n",
       "      <th>FILM_runtime</th>\n",
       "      <td>-0.210225</td>\n",
       "      <td>1.000000</td>\n",
       "      <td>0.196133</td>\n",
       "      <td>0.064299</td>\n",
       "      <td>0.026674</td>\n",
       "      <td>0.005286</td>\n",
       "      <td>0.204472</td>\n",
       "      <td>0.175160</td>\n",
       "      <td>0.171128</td>\n",
       "      <td>0.169370</td>\n",
       "      <td>0.167377</td>\n",
       "      <td>0.199733</td>\n",
       "      <td>0.192067</td>\n",
       "      <td>0.081449</td>\n",
       "      <td>0.118883</td>\n",
       "      <td>0.204472</td>\n",
       "    </tr>\n",
       "    <tr>\n",
       "      <th>FILM_oscars_won</th>\n",
       "      <td>-0.131222</td>\n",
       "      <td>0.196133</td>\n",
       "      <td>1.000000</td>\n",
       "      <td>0.092086</td>\n",
       "      <td>0.018388</td>\n",
       "      <td>0.028374</td>\n",
       "      <td>0.141426</td>\n",
       "      <td>0.116054</td>\n",
       "      <td>0.115982</td>\n",
       "      <td>0.129836</td>\n",
       "      <td>0.187380</td>\n",
       "      <td>0.096247</td>\n",
       "      <td>0.123858</td>\n",
       "      <td>0.004504</td>\n",
       "      <td>0.112710</td>\n",
       "      <td>0.141426</td>\n",
       "    </tr>\n",
       "    <tr>\n",
       "      <th>FILM_budget</th>\n",
       "      <td>-0.241210</td>\n",
       "      <td>0.064299</td>\n",
       "      <td>0.092086</td>\n",
       "      <td>1.000000</td>\n",
       "      <td>0.641420</td>\n",
       "      <td>0.743414</td>\n",
       "      <td>0.139018</td>\n",
       "      <td>0.560926</td>\n",
       "      <td>0.536104</td>\n",
       "      <td>0.445341</td>\n",
       "      <td>0.006429</td>\n",
       "      <td>0.159537</td>\n",
       "      <td>0.137662</td>\n",
       "      <td>0.072807</td>\n",
       "      <td>0.178509</td>\n",
       "      <td>0.139018</td>\n",
       "    </tr>\n",
       "    <tr>\n",
       "      <th>FILM_domestic_gross</th>\n",
       "      <td>-0.197717</td>\n",
       "      <td>0.026674</td>\n",
       "      <td>0.018388</td>\n",
       "      <td>0.641420</td>\n",
       "      <td>1.000000</td>\n",
       "      <td>0.896139</td>\n",
       "      <td>-0.091242</td>\n",
       "      <td>0.426101</td>\n",
       "      <td>0.425567</td>\n",
       "      <td>0.293930</td>\n",
       "      <td>0.042278</td>\n",
       "      <td>0.115131</td>\n",
       "      <td>0.098026</td>\n",
       "      <td>-0.004333</td>\n",
       "      <td>0.174006</td>\n",
       "      <td>-0.091242</td>\n",
       "    </tr>\n",
       "    <tr>\n",
       "      <th>FILM_worldwide_gross</th>\n",
       "      <td>-0.214970</td>\n",
       "      <td>0.005286</td>\n",
       "      <td>0.028374</td>\n",
       "      <td>0.743414</td>\n",
       "      <td>0.896139</td>\n",
       "      <td>1.000000</td>\n",
       "      <td>-0.018909</td>\n",
       "      <td>0.524690</td>\n",
       "      <td>0.510991</td>\n",
       "      <td>0.372089</td>\n",
       "      <td>0.015942</td>\n",
       "      <td>0.131261</td>\n",
       "      <td>0.130324</td>\n",
       "      <td>0.022430</td>\n",
       "      <td>0.154330</td>\n",
       "      <td>-0.018909</td>\n",
       "    </tr>\n",
       "    <tr>\n",
       "      <th>FILM_mpaa_rating</th>\n",
       "      <td>0.038512</td>\n",
       "      <td>0.204472</td>\n",
       "      <td>0.141426</td>\n",
       "      <td>0.139018</td>\n",
       "      <td>-0.091242</td>\n",
       "      <td>-0.018909</td>\n",
       "      <td>1.000000</td>\n",
       "      <td>0.153650</td>\n",
       "      <td>0.165290</td>\n",
       "      <td>0.153216</td>\n",
       "      <td>-0.083803</td>\n",
       "      <td>0.210334</td>\n",
       "      <td>0.127654</td>\n",
       "      <td>0.177359</td>\n",
       "      <td>0.064852</td>\n",
       "      <td>1.000000</td>\n",
       "    </tr>\n",
       "    <tr>\n",
       "      <th>BWAY_total_weekly_gross</th>\n",
       "      <td>-0.347167</td>\n",
       "      <td>0.175160</td>\n",
       "      <td>0.116054</td>\n",
       "      <td>0.560926</td>\n",
       "      <td>0.426101</td>\n",
       "      <td>0.524690</td>\n",
       "      <td>0.153650</td>\n",
       "      <td>1.000000</td>\n",
       "      <td>0.980157</td>\n",
       "      <td>0.901254</td>\n",
       "      <td>0.085077</td>\n",
       "      <td>0.293630</td>\n",
       "      <td>0.242150</td>\n",
       "      <td>0.140894</td>\n",
       "      <td>0.279355</td>\n",
       "      <td>0.153650</td>\n",
       "    </tr>\n",
       "    <tr>\n",
       "      <th>BWAY_total_potential_gross</th>\n",
       "      <td>-0.352186</td>\n",
       "      <td>0.171128</td>\n",
       "      <td>0.115982</td>\n",
       "      <td>0.536104</td>\n",
       "      <td>0.425567</td>\n",
       "      <td>0.510991</td>\n",
       "      <td>0.165290</td>\n",
       "      <td>0.980157</td>\n",
       "      <td>1.000000</td>\n",
       "      <td>0.885542</td>\n",
       "      <td>0.101733</td>\n",
       "      <td>0.317499</td>\n",
       "      <td>0.232892</td>\n",
       "      <td>0.147820</td>\n",
       "      <td>0.284620</td>\n",
       "      <td>0.165290</td>\n",
       "    </tr>\n",
       "    <tr>\n",
       "      <th>BWAY_total_performances</th>\n",
       "      <td>-0.361570</td>\n",
       "      <td>0.169370</td>\n",
       "      <td>0.129836</td>\n",
       "      <td>0.445341</td>\n",
       "      <td>0.293930</td>\n",
       "      <td>0.372089</td>\n",
       "      <td>0.153216</td>\n",
       "      <td>0.901254</td>\n",
       "      <td>0.885542</td>\n",
       "      <td>1.000000</td>\n",
       "      <td>0.090563</td>\n",
       "      <td>0.165661</td>\n",
       "      <td>0.218768</td>\n",
       "      <td>0.038374</td>\n",
       "      <td>0.259910</td>\n",
       "      <td>0.153216</td>\n",
       "    </tr>\n",
       "    <tr>\n",
       "      <th>BWAY_total_previews</th>\n",
       "      <td>-0.226786</td>\n",
       "      <td>0.167377</td>\n",
       "      <td>0.187380</td>\n",
       "      <td>0.006429</td>\n",
       "      <td>0.042278</td>\n",
       "      <td>0.015942</td>\n",
       "      <td>-0.083803</td>\n",
       "      <td>0.085077</td>\n",
       "      <td>0.101733</td>\n",
       "      <td>0.090563</td>\n",
       "      <td>1.000000</td>\n",
       "      <td>0.258626</td>\n",
       "      <td>0.267980</td>\n",
       "      <td>0.092366</td>\n",
       "      <td>0.061620</td>\n",
       "      <td>-0.083803</td>\n",
       "    </tr>\n",
       "    <tr>\n",
       "      <th>BWAY_avg_ticket_price</th>\n",
       "      <td>-0.202153</td>\n",
       "      <td>0.199733</td>\n",
       "      <td>0.096247</td>\n",
       "      <td>0.159537</td>\n",
       "      <td>0.115131</td>\n",
       "      <td>0.131261</td>\n",
       "      <td>0.210334</td>\n",
       "      <td>0.293630</td>\n",
       "      <td>0.317499</td>\n",
       "      <td>0.165661</td>\n",
       "      <td>0.258626</td>\n",
       "      <td>1.000000</td>\n",
       "      <td>0.509723</td>\n",
       "      <td>0.549060</td>\n",
       "      <td>0.155760</td>\n",
       "      <td>0.210334</td>\n",
       "    </tr>\n",
       "    <tr>\n",
       "      <th>BWAY_avg_capacity</th>\n",
       "      <td>-0.219909</td>\n",
       "      <td>0.192067</td>\n",
       "      <td>0.123858</td>\n",
       "      <td>0.137662</td>\n",
       "      <td>0.098026</td>\n",
       "      <td>0.130324</td>\n",
       "      <td>0.127654</td>\n",
       "      <td>0.242150</td>\n",
       "      <td>0.232892</td>\n",
       "      <td>0.218768</td>\n",
       "      <td>0.267980</td>\n",
       "      <td>0.509723</td>\n",
       "      <td>1.000000</td>\n",
       "      <td>0.169241</td>\n",
       "      <td>-0.068557</td>\n",
       "      <td>0.127654</td>\n",
       "    </tr>\n",
       "    <tr>\n",
       "      <th>BWAY_avg_top_ticket_price</th>\n",
       "      <td>-0.092234</td>\n",
       "      <td>0.081449</td>\n",
       "      <td>0.004504</td>\n",
       "      <td>0.072807</td>\n",
       "      <td>-0.004333</td>\n",
       "      <td>0.022430</td>\n",
       "      <td>0.177359</td>\n",
       "      <td>0.140894</td>\n",
       "      <td>0.147820</td>\n",
       "      <td>0.038374</td>\n",
       "      <td>0.092366</td>\n",
       "      <td>0.549060</td>\n",
       "      <td>0.169241</td>\n",
       "      <td>1.000000</td>\n",
       "      <td>0.140828</td>\n",
       "      <td>0.177359</td>\n",
       "    </tr>\n",
       "    <tr>\n",
       "      <th>BWAY_avg_seats_in_theatre</th>\n",
       "      <td>-0.315347</td>\n",
       "      <td>0.118883</td>\n",
       "      <td>0.112710</td>\n",
       "      <td>0.178509</td>\n",
       "      <td>0.174006</td>\n",
       "      <td>0.154330</td>\n",
       "      <td>0.064852</td>\n",
       "      <td>0.279355</td>\n",
       "      <td>0.284620</td>\n",
       "      <td>0.259910</td>\n",
       "      <td>0.061620</td>\n",
       "      <td>0.155760</td>\n",
       "      <td>-0.068557</td>\n",
       "      <td>0.140828</td>\n",
       "      <td>1.000000</td>\n",
       "      <td>0.064852</td>\n",
       "    </tr>\n",
       "    <tr>\n",
       "      <th>FILM_mpaa_rating_number</th>\n",
       "      <td>0.038512</td>\n",
       "      <td>0.204472</td>\n",
       "      <td>0.141426</td>\n",
       "      <td>0.139018</td>\n",
       "      <td>-0.091242</td>\n",
       "      <td>-0.018909</td>\n",
       "      <td>1.000000</td>\n",
       "      <td>0.153650</td>\n",
       "      <td>0.165290</td>\n",
       "      <td>0.153216</td>\n",
       "      <td>-0.083803</td>\n",
       "      <td>0.210334</td>\n",
       "      <td>0.127654</td>\n",
       "      <td>0.177359</td>\n",
       "      <td>0.064852</td>\n",
       "      <td>1.000000</td>\n",
       "    </tr>\n",
       "  </tbody>\n",
       "</table>\n",
       "</div>"
      ],
      "text/plain": [
       "                               index  FILM_runtime  FILM_oscars_won  \\\n",
       "index                       1.000000     -0.210225        -0.131222   \n",
       "FILM_runtime               -0.210225      1.000000         0.196133   \n",
       "FILM_oscars_won            -0.131222      0.196133         1.000000   \n",
       "FILM_budget                -0.241210      0.064299         0.092086   \n",
       "FILM_domestic_gross        -0.197717      0.026674         0.018388   \n",
       "FILM_worldwide_gross       -0.214970      0.005286         0.028374   \n",
       "FILM_mpaa_rating            0.038512      0.204472         0.141426   \n",
       "BWAY_total_weekly_gross    -0.347167      0.175160         0.116054   \n",
       "BWAY_total_potential_gross -0.352186      0.171128         0.115982   \n",
       "BWAY_total_performances    -0.361570      0.169370         0.129836   \n",
       "BWAY_total_previews        -0.226786      0.167377         0.187380   \n",
       "BWAY_avg_ticket_price      -0.202153      0.199733         0.096247   \n",
       "BWAY_avg_capacity          -0.219909      0.192067         0.123858   \n",
       "BWAY_avg_top_ticket_price  -0.092234      0.081449         0.004504   \n",
       "BWAY_avg_seats_in_theatre  -0.315347      0.118883         0.112710   \n",
       "FILM_mpaa_rating_number     0.038512      0.204472         0.141426   \n",
       "\n",
       "                            FILM_budget  FILM_domestic_gross  \\\n",
       "index                         -0.241210            -0.197717   \n",
       "FILM_runtime                   0.064299             0.026674   \n",
       "FILM_oscars_won                0.092086             0.018388   \n",
       "FILM_budget                    1.000000             0.641420   \n",
       "FILM_domestic_gross            0.641420             1.000000   \n",
       "FILM_worldwide_gross           0.743414             0.896139   \n",
       "FILM_mpaa_rating               0.139018            -0.091242   \n",
       "BWAY_total_weekly_gross        0.560926             0.426101   \n",
       "BWAY_total_potential_gross     0.536104             0.425567   \n",
       "BWAY_total_performances        0.445341             0.293930   \n",
       "BWAY_total_previews            0.006429             0.042278   \n",
       "BWAY_avg_ticket_price          0.159537             0.115131   \n",
       "BWAY_avg_capacity              0.137662             0.098026   \n",
       "BWAY_avg_top_ticket_price      0.072807            -0.004333   \n",
       "BWAY_avg_seats_in_theatre      0.178509             0.174006   \n",
       "FILM_mpaa_rating_number        0.139018            -0.091242   \n",
       "\n",
       "                            FILM_worldwide_gross  FILM_mpaa_rating  \\\n",
       "index                                  -0.214970          0.038512   \n",
       "FILM_runtime                            0.005286          0.204472   \n",
       "FILM_oscars_won                         0.028374          0.141426   \n",
       "FILM_budget                             0.743414          0.139018   \n",
       "FILM_domestic_gross                     0.896139         -0.091242   \n",
       "FILM_worldwide_gross                    1.000000         -0.018909   \n",
       "FILM_mpaa_rating                       -0.018909          1.000000   \n",
       "BWAY_total_weekly_gross                 0.524690          0.153650   \n",
       "BWAY_total_potential_gross              0.510991          0.165290   \n",
       "BWAY_total_performances                 0.372089          0.153216   \n",
       "BWAY_total_previews                     0.015942         -0.083803   \n",
       "BWAY_avg_ticket_price                   0.131261          0.210334   \n",
       "BWAY_avg_capacity                       0.130324          0.127654   \n",
       "BWAY_avg_top_ticket_price               0.022430          0.177359   \n",
       "BWAY_avg_seats_in_theatre               0.154330          0.064852   \n",
       "FILM_mpaa_rating_number                -0.018909          1.000000   \n",
       "\n",
       "                            BWAY_total_weekly_gross  \\\n",
       "index                                     -0.347167   \n",
       "FILM_runtime                               0.175160   \n",
       "FILM_oscars_won                            0.116054   \n",
       "FILM_budget                                0.560926   \n",
       "FILM_domestic_gross                        0.426101   \n",
       "FILM_worldwide_gross                       0.524690   \n",
       "FILM_mpaa_rating                           0.153650   \n",
       "BWAY_total_weekly_gross                    1.000000   \n",
       "BWAY_total_potential_gross                 0.980157   \n",
       "BWAY_total_performances                    0.901254   \n",
       "BWAY_total_previews                        0.085077   \n",
       "BWAY_avg_ticket_price                      0.293630   \n",
       "BWAY_avg_capacity                          0.242150   \n",
       "BWAY_avg_top_ticket_price                  0.140894   \n",
       "BWAY_avg_seats_in_theatre                  0.279355   \n",
       "FILM_mpaa_rating_number                    0.153650   \n",
       "\n",
       "                            BWAY_total_potential_gross  \\\n",
       "index                                        -0.352186   \n",
       "FILM_runtime                                  0.171128   \n",
       "FILM_oscars_won                               0.115982   \n",
       "FILM_budget                                   0.536104   \n",
       "FILM_domestic_gross                           0.425567   \n",
       "FILM_worldwide_gross                          0.510991   \n",
       "FILM_mpaa_rating                              0.165290   \n",
       "BWAY_total_weekly_gross                       0.980157   \n",
       "BWAY_total_potential_gross                    1.000000   \n",
       "BWAY_total_performances                       0.885542   \n",
       "BWAY_total_previews                           0.101733   \n",
       "BWAY_avg_ticket_price                         0.317499   \n",
       "BWAY_avg_capacity                             0.232892   \n",
       "BWAY_avg_top_ticket_price                     0.147820   \n",
       "BWAY_avg_seats_in_theatre                     0.284620   \n",
       "FILM_mpaa_rating_number                       0.165290   \n",
       "\n",
       "                            BWAY_total_performances  BWAY_total_previews  \\\n",
       "index                                     -0.361570            -0.226786   \n",
       "FILM_runtime                               0.169370             0.167377   \n",
       "FILM_oscars_won                            0.129836             0.187380   \n",
       "FILM_budget                                0.445341             0.006429   \n",
       "FILM_domestic_gross                        0.293930             0.042278   \n",
       "FILM_worldwide_gross                       0.372089             0.015942   \n",
       "FILM_mpaa_rating                           0.153216            -0.083803   \n",
       "BWAY_total_weekly_gross                    0.901254             0.085077   \n",
       "BWAY_total_potential_gross                 0.885542             0.101733   \n",
       "BWAY_total_performances                    1.000000             0.090563   \n",
       "BWAY_total_previews                        0.090563             1.000000   \n",
       "BWAY_avg_ticket_price                      0.165661             0.258626   \n",
       "BWAY_avg_capacity                          0.218768             0.267980   \n",
       "BWAY_avg_top_ticket_price                  0.038374             0.092366   \n",
       "BWAY_avg_seats_in_theatre                  0.259910             0.061620   \n",
       "FILM_mpaa_rating_number                    0.153216            -0.083803   \n",
       "\n",
       "                            BWAY_avg_ticket_price  BWAY_avg_capacity  \\\n",
       "index                                   -0.202153          -0.219909   \n",
       "FILM_runtime                             0.199733           0.192067   \n",
       "FILM_oscars_won                          0.096247           0.123858   \n",
       "FILM_budget                              0.159537           0.137662   \n",
       "FILM_domestic_gross                      0.115131           0.098026   \n",
       "FILM_worldwide_gross                     0.131261           0.130324   \n",
       "FILM_mpaa_rating                         0.210334           0.127654   \n",
       "BWAY_total_weekly_gross                  0.293630           0.242150   \n",
       "BWAY_total_potential_gross               0.317499           0.232892   \n",
       "BWAY_total_performances                  0.165661           0.218768   \n",
       "BWAY_total_previews                      0.258626           0.267980   \n",
       "BWAY_avg_ticket_price                    1.000000           0.509723   \n",
       "BWAY_avg_capacity                        0.509723           1.000000   \n",
       "BWAY_avg_top_ticket_price                0.549060           0.169241   \n",
       "BWAY_avg_seats_in_theatre                0.155760          -0.068557   \n",
       "FILM_mpaa_rating_number                  0.210334           0.127654   \n",
       "\n",
       "                            BWAY_avg_top_ticket_price  \\\n",
       "index                                       -0.092234   \n",
       "FILM_runtime                                 0.081449   \n",
       "FILM_oscars_won                              0.004504   \n",
       "FILM_budget                                  0.072807   \n",
       "FILM_domestic_gross                         -0.004333   \n",
       "FILM_worldwide_gross                         0.022430   \n",
       "FILM_mpaa_rating                             0.177359   \n",
       "BWAY_total_weekly_gross                      0.140894   \n",
       "BWAY_total_potential_gross                   0.147820   \n",
       "BWAY_total_performances                      0.038374   \n",
       "BWAY_total_previews                          0.092366   \n",
       "BWAY_avg_ticket_price                        0.549060   \n",
       "BWAY_avg_capacity                            0.169241   \n",
       "BWAY_avg_top_ticket_price                    1.000000   \n",
       "BWAY_avg_seats_in_theatre                    0.140828   \n",
       "FILM_mpaa_rating_number                      0.177359   \n",
       "\n",
       "                            BWAY_avg_seats_in_theatre  FILM_mpaa_rating_number  \n",
       "index                                       -0.315347                 0.038512  \n",
       "FILM_runtime                                 0.118883                 0.204472  \n",
       "FILM_oscars_won                              0.112710                 0.141426  \n",
       "FILM_budget                                  0.178509                 0.139018  \n",
       "FILM_domestic_gross                          0.174006                -0.091242  \n",
       "FILM_worldwide_gross                         0.154330                -0.018909  \n",
       "FILM_mpaa_rating                             0.064852                 1.000000  \n",
       "BWAY_total_weekly_gross                      0.279355                 0.153650  \n",
       "BWAY_total_potential_gross                   0.284620                 0.165290  \n",
       "BWAY_total_performances                      0.259910                 0.153216  \n",
       "BWAY_total_previews                          0.061620                -0.083803  \n",
       "BWAY_avg_ticket_price                        0.155760                 0.210334  \n",
       "BWAY_avg_capacity                           -0.068557                 0.127654  \n",
       "BWAY_avg_top_ticket_price                    0.140828                 0.177359  \n",
       "BWAY_avg_seats_in_theatre                    1.000000                 0.064852  \n",
       "FILM_mpaa_rating_number                      0.064852                 1.000000  "
      ]
     },
     "execution_count": 3,
     "metadata": {},
     "output_type": "execute_result"
    }
   ],
   "source": [
    "df.corr()"
   ]
  },
  {
   "cell_type": "code",
   "execution_count": 4,
   "metadata": {},
   "outputs": [
    {
     "data": {
      "image/png": "[encoded data removed]",
      "text/plain": [
       "<Figure size 432x288 with 2 Axes>"
      ]
     },
     "metadata": {
      "needs_background": "light"
     },
     "output_type": "display_data"
    }
   ],
   "source": [
    "# example of a better corr matrix\n",
    "sns.heatmap(df.corr(), cmap=\"seismic\", annot=True, vmin=-1, vmax=1)\n",
    "\n",
    "plt.gca().set_ylim(len(df.corr())+0.5, -0.5);  # quick fix to make sure viz isn't cut off\n",
    "\n",
    "# more cmaps: https://matplotlib.org/examples/color/colormaps_reference.html"
   ]
  },
  {
   "cell_type": "markdown",
   "metadata": {},
   "source": [
    "<h3>BROADWAY TO FILM "
   ]
  },
  {
   "cell_type": "code",
   "execution_count": 6,
   "metadata": {},
   "outputs": [],
   "source": [
    "lr = LinearRegression()"
   ]
  },
  {
   "cell_type": "code",
   "execution_count": 54,
   "metadata": {},
   "outputs": [],
   "source": [
    "X = df[['BWAY_total_weekly_gross',\n",
    "       'BWAY_total_potential_gross', 'BWAY_total_performances',\n",
    "       'BWAY_total_previews', 'BWAY_avg_ticket_price',\n",
    "       'BWAY_avg_capacity', 'BWAY_avg_top_ticket_price',\n",
    "       'BWAY_avg_seats_in_theatre']]"
   ]
  },
  {
   "cell_type": "code",
   "execution_count": 55,
   "metadata": {},
   "outputs": [],
   "source": [
    "y = df['FILM_domestic_gross']"
   ]
  },
  {
   "cell_type": "code",
   "execution_count": 56,
   "metadata": {
    "scrolled": false
   },
   "outputs": [
    {
     "data": {
      "text/plain": [
       "LinearRegression(fit_intercept=False)"
      ]
     },
     "execution_count": 56,
     "metadata": {},
     "output_type": "execute_result"
    }
   ],
   "source": [
    "lr.fit(X,y)"
   ]
  },
  {
   "cell_type": "code",
   "execution_count": 57,
   "metadata": {},
   "outputs": [
    {
     "data": {
      "text/plain": [
       "0.21958475797120347"
      ]
     },
     "execution_count": 57,
     "metadata": {},
     "output_type": "execute_result"
    }
   ],
   "source": [
    "lr.score(X,y)"
   ]
  },
  {
   "cell_type": "code",
   "execution_count": 58,
   "metadata": {},
   "outputs": [
    {
     "data": {
      "text/plain": [
       "array([ 2.26059670e-01,  1.12787316e-01, -2.37893117e+04,  6.04698879e+04,\n",
       "       -1.96837799e+05,  6.10722851e+07, -3.15056123e+04,  2.74809372e+04])"
      ]
     },
     "execution_count": 58,
     "metadata": {},
     "output_type": "execute_result"
    }
   ],
   "source": [
    "lr.coef_"
   ]
  },
  {
   "cell_type": "markdown",
   "metadata": {},
   "source": [
    "<h3>FILM TO BROADWAY"
   ]
  },
  {
   "cell_type": "code",
   "execution_count": 3,
   "metadata": {},
   "outputs": [],
   "source": [
    "# Film budget out\n",
    "\n",
    "newX = df[['FILM_runtime', 'FILM_budget', 'FILM_oscars_won', 'FILM_domestic_gross', 'FILM_worldwide_gross',\n",
    "          'FILM_mpaa_rating_number', 'FILM_runtime']]\n",
    "newy = df['BWAY_total_weekly_gross']"
   ]
  },
  {
   "cell_type": "code",
   "execution_count": 60,
   "metadata": {
    "scrolled": true
   },
   "outputs": [
    {
     "data": {
      "text/plain": [
       "LinearRegression(fit_intercept=False)"
      ]
     },
     "execution_count": 60,
     "metadata": {},
     "output_type": "execute_result"
    }
   ],
   "source": [
    "lr.fit(newX, newy)"
   ]
  },
  {
   "cell_type": "code",
   "execution_count": 61,
   "metadata": {
    "scrolled": true
   },
   "outputs": [
    {
     "data": {
      "text/plain": [
       "0.3470031067349616"
      ]
     },
     "execution_count": 61,
     "metadata": {},
     "output_type": "execute_result"
    }
   ],
   "source": [
    "lr.score(newX, newy)"
   ]
  },
  {
   "cell_type": "code",
   "execution_count": 62,
   "metadata": {},
   "outputs": [
    {
     "data": {
      "text/plain": [
       "0.0"
      ]
     },
     "execution_count": 62,
     "metadata": {},
     "output_type": "execute_result"
    }
   ],
   "source": [
    "lr.intercept_"
   ]
  },
  {
   "cell_type": "code",
   "execution_count": 63,
   "metadata": {
    "scrolled": true
   },
   "outputs": [
    {
     "data": {
      "text/plain": [
       "array([-5.82511687e+04,  1.76419154e+00,  5.62311137e+06, -6.77600719e-01,\n",
       "        4.65051140e-01,  5.07741718e+06, -5.82511687e+04])"
      ]
     },
     "execution_count": 63,
     "metadata": {},
     "output_type": "execute_result"
    }
   ],
   "source": [
    "lr.coef_"
   ]
  },
  {
   "cell_type": "code",
   "execution_count": 8,
   "metadata": {},
   "outputs": [],
   "source": [
    "newX = df[['FILM_budget', 'FILM_oscars_won', 'FILM_domestic_gross', 'FILM_worldwide_gross',\n",
    "          'FILM_mpaa_rating_number', 'FILM_runtime']]\n",
    "newy = df['BWAY_total_weekly_gross']"
   ]
  },
  {
   "cell_type": "code",
   "execution_count": 9,
   "metadata": {},
   "outputs": [
    {
     "data": {
      "text/plain": [
       "LinearRegression()"
      ]
     },
     "execution_count": 9,
     "metadata": {},
     "output_type": "execute_result"
    }
   ],
   "source": [
    "lr.fit(newX, newy)"
   ]
  },
  {
   "cell_type": "code",
   "execution_count": 10,
   "metadata": {
    "scrolled": true
   },
   "outputs": [
    {
     "data": {
      "text/plain": [
       "0.04816356035474578"
      ]
     },
     "execution_count": 10,
     "metadata": {},
     "output_type": "execute_result"
    }
   ],
   "source": [
    "lr.score(newX, newy)"
   ]
  },
  {
   "cell_type": "code",
   "execution_count": null,
   "metadata": {},
   "outputs": [],
   "source": []
  },
  {
   "cell_type": "code",
   "execution_count": 7,
   "metadata": {},
   "outputs": [
    {
     "data": {
      "text/plain": [
       "0.1352569632348446"
      ]
     },
     "execution_count": 7,
     "metadata": {},
     "output_type": "execute_result"
    }
   ],
   "source": [
    "from sklearn.preprocessing import PolynomialFeatures\n",
    "\n",
    "p = PolynomialFeatures()\n",
    "X_poly = p.fit_transform(newX)\n",
    "\n",
    "lr_full = LinearRegression()\n",
    "lr_full.fit(X_poly, newy)\n",
    "lr_full.score(X_poly, newy)"
   ]
  },
  {
   "cell_type": "code",
   "execution_count": 94,
   "metadata": {},
   "outputs": [
    {
     "data": {
      "text/plain": [
       "array([ 1.81467548e+00,  3.91164822e+06, -4.34362382e-01,  4.08719476e-01,\n",
       "        5.29017701e+06,  6.40928691e+05])"
      ]
     },
     "execution_count": 94,
     "metadata": {},
     "output_type": "execute_result"
    }
   ],
   "source": [
    "lr.coef_"
   ]
  },
  {
   "cell_type": "code",
   "execution_count": null,
   "metadata": {},
   "outputs": [],
   "source": [
    "import fancyimpute  \n",
    "from fancyimpute import IterativeImputer\n",
    "from sklearn.impute import SimpleImputer \n",
    "# Getting only the float columns\n",
    "floats = df[['domestic_total_gross', 'worldwide_total_gross', 'opening_weekend_rev', 'budget',\n",
    "                                  'runtime_minutes', 'IMDb_rating']]\n",
    "MICE = IterativeImputer()\n",
    "floats = MICE.fit_transform(floats)\n",
    "floats = pd.DataFrame(floats, columns = ['domestic_total_gross', 'worldwide_total_gross', \n",
    "                                         'opening_weekend_rev', 'budget', 'runtime_minutes', \n",
    "                                         'IMDb_rating']).set_index(movies_and_sequels_info.index)\n",
    "floats"
   ]
  },
  {
   "cell_type": "code",
   "execution_count": 11,
   "metadata": {},
   "outputs": [
    {
     "data": {
      "text/html": [
       "<div>\n",
       "<style scoped>\n",
       "    .dataframe tbody tr th:only-of-type {\n",
       "        vertical-align: middle;\n",
       "    }\n",
       "\n",
       "    .dataframe tbody tr th {\n",
       "        vertical-align: top;\n",
       "    }\n",
       "\n",
       "    .dataframe thead th {\n",
       "        text-align: right;\n",
       "    }\n",
       "</style>\n",
       "<table border=\"1\" class=\"dataframe\">\n",
       "  <thead>\n",
       "    <tr style=\"text-align: right;\">\n",
       "      <th></th>\n",
       "      <th>Unnamed: 0</th>\n",
       "      <th>Unnamed: 0.1</th>\n",
       "      <th>index</th>\n",
       "      <th>title</th>\n",
       "      <th>FILM_runtime</th>\n",
       "      <th>FILM_stars</th>\n",
       "      <th>FILM_directors</th>\n",
       "      <th>FILM_aka</th>\n",
       "      <th>FILM_oscars_won</th>\n",
       "      <th>FILM_genres</th>\n",
       "      <th>...</th>\n",
       "      <th>BWAY_total_potential_gross</th>\n",
       "      <th>BWAY_total_performances</th>\n",
       "      <th>BWAY_total_previews</th>\n",
       "      <th>BWAY_last_performance</th>\n",
       "      <th>BWAY_avg_ticket_price</th>\n",
       "      <th>BWAY_avg_capacity</th>\n",
       "      <th>BWAY_avg_top_ticket_price</th>\n",
       "      <th>BWAY_avg_seats_in_theatre</th>\n",
       "      <th>FILM_mpaa_rating_number</th>\n",
       "      <th>FILM_release_year</th>\n",
       "    </tr>\n",
       "  </thead>\n",
       "  <tbody>\n",
       "    <tr>\n",
       "      <th>0</th>\n",
       "      <td>2</td>\n",
       "      <td>2</td>\n",
       "      <td>71</td>\n",
       "      <td>Grease</td>\n",
       "      <td>110.000000</td>\n",
       "      <td>['John Travolta', 'Olivia Newton-John', 'Stock...</td>\n",
       "      <td>['Randal Kleiser']</td>\n",
       "      <td>Grease</td>\n",
       "      <td>1.0</td>\n",
       "      <td>['Musical', 'Romance']</td>\n",
       "      <td>...</td>\n",
       "      <td>75236934.0</td>\n",
       "      <td>2059</td>\n",
       "      <td>51</td>\n",
       "      <td>1994-04-24</td>\n",
       "      <td>59.158427</td>\n",
       "      <td>0.863382</td>\n",
       "      <td>138.586124</td>\n",
       "      <td>1082.404494</td>\n",
       "      <td>2</td>\n",
       "      <td>1978-01-01</td>\n",
       "    </tr>\n",
       "    <tr>\n",
       "      <th>1</th>\n",
       "      <td>5</td>\n",
       "      <td>5</td>\n",
       "      <td>85</td>\n",
       "      <td>Charlie and the Chocolate Factory</td>\n",
       "      <td>115.000000</td>\n",
       "      <td>['Johnny Depp', 'Freddie Highmore', 'David Kel...</td>\n",
       "      <td>['Tim Burton']</td>\n",
       "      <td>Charlie and the Chocolate Factory: The IMAX Ex...</td>\n",
       "      <td>1.0</td>\n",
       "      <td>['Adventure', 'Comedy', 'Family', 'Fantasy', '...</td>\n",
       "      <td>...</td>\n",
       "      <td>57710896.0</td>\n",
       "      <td>305</td>\n",
       "      <td>27</td>\n",
       "      <td>2017-04-02</td>\n",
       "      <td>99.095714</td>\n",
       "      <td>0.879214</td>\n",
       "      <td>233.000000</td>\n",
       "      <td>1496.000000</td>\n",
       "      <td>2</td>\n",
       "      <td>2005-01-01</td>\n",
       "    </tr>\n",
       "    <tr>\n",
       "      <th>2</th>\n",
       "      <td>8</td>\n",
       "      <td>8</td>\n",
       "      <td>395</td>\n",
       "      <td>Guys and Dolls</td>\n",
       "      <td>150.000000</td>\n",
       "      <td>['Marlon Brando', 'Jean Simmons', 'Frank Sinat...</td>\n",
       "      <td>['Joseph L. Mankiewicz']</td>\n",
       "      <td>Guys and Dolls</td>\n",
       "      <td>4.0</td>\n",
       "      <td>['Comedy', 'Crime', 'Musical', 'Romance']</td>\n",
       "      <td>...</td>\n",
       "      <td>18653313.0</td>\n",
       "      <td>1264</td>\n",
       "      <td>61</td>\n",
       "      <td>1992-03-22</td>\n",
       "      <td>52.343795</td>\n",
       "      <td>0.849979</td>\n",
       "      <td>275.000000</td>\n",
       "      <td>1273.861446</td>\n",
       "      <td>0</td>\n",
       "      <td>1955-01-01</td>\n",
       "    </tr>\n",
       "    <tr>\n",
       "      <th>3</th>\n",
       "      <td>10</td>\n",
       "      <td>10</td>\n",
       "      <td>402</td>\n",
       "      <td>The Sound of Music</td>\n",
       "      <td>172.000000</td>\n",
       "      <td>['Julie Andrews', 'Christopher Plummer', 'Elea...</td>\n",
       "      <td>['Robert Wise']</td>\n",
       "      <td>Rodgers and Hammerstein's the Sound of Music</td>\n",
       "      <td>0.0</td>\n",
       "      <td>['Biography', 'Drama', 'Family', 'Musical', 'R...</td>\n",
       "      <td>...</td>\n",
       "      <td>53138739.0</td>\n",
       "      <td>533</td>\n",
       "      <td>38</td>\n",
       "      <td>1998-02-08</td>\n",
       "      <td>53.843056</td>\n",
       "      <td>0.783207</td>\n",
       "      <td>75.069444</td>\n",
       "      <td>1435.750000</td>\n",
       "      <td>1</td>\n",
       "      <td>1965-01-01</td>\n",
       "    </tr>\n",
       "    <tr>\n",
       "      <th>4</th>\n",
       "      <td>11</td>\n",
       "      <td>11</td>\n",
       "      <td>403</td>\n",
       "      <td>Chitty Chitty Bang Bang</td>\n",
       "      <td>144.000000</td>\n",
       "      <td>['Dick Van Dyke', 'Sally Ann Howes', 'Lionel J...</td>\n",
       "      <td>['Ken Hughes']</td>\n",
       "      <td>Chitty Chitty Bang Bang</td>\n",
       "      <td>1.0</td>\n",
       "      <td>['Adventure', 'Family', 'Fantasy', 'Musical']</td>\n",
       "      <td>...</td>\n",
       "      <td>48791929.0</td>\n",
       "      <td>285</td>\n",
       "      <td>34</td>\n",
       "      <td>2005-03-27</td>\n",
       "      <td>63.858537</td>\n",
       "      <td>0.745973</td>\n",
       "      <td>115.884146</td>\n",
       "      <td>1806.926829</td>\n",
       "      <td>1</td>\n",
       "      <td>1968-01-01</td>\n",
       "    </tr>\n",
       "    <tr>\n",
       "      <th>...</th>\n",
       "      <td>...</td>\n",
       "      <td>...</td>\n",
       "      <td>...</td>\n",
       "      <td>...</td>\n",
       "      <td>...</td>\n",
       "      <td>...</td>\n",
       "      <td>...</td>\n",
       "      <td>...</td>\n",
       "      <td>...</td>\n",
       "      <td>...</td>\n",
       "      <td>...</td>\n",
       "      <td>...</td>\n",
       "      <td>...</td>\n",
       "      <td>...</td>\n",
       "      <td>...</td>\n",
       "      <td>...</td>\n",
       "      <td>...</td>\n",
       "      <td>...</td>\n",
       "      <td>...</td>\n",
       "      <td>...</td>\n",
       "      <td>...</td>\n",
       "    </tr>\n",
       "    <tr>\n",
       "      <th>402</th>\n",
       "      <td>536</td>\n",
       "      <td>578</td>\n",
       "      <td>27000</td>\n",
       "      <td>The Sound Inside</td>\n",
       "      <td>103.708633</td>\n",
       "      <td>Not found</td>\n",
       "      <td>['Dominic Allan']</td>\n",
       "      <td>Not found</td>\n",
       "      <td>0.0</td>\n",
       "      <td>['director: {', '@type: Person', 'url: /name/n...</td>\n",
       "      <td>...</td>\n",
       "      <td>17243316.0</td>\n",
       "      <td>100</td>\n",
       "      <td>37</td>\n",
       "      <td>2019-09-15</td>\n",
       "      <td>86.498889</td>\n",
       "      <td>0.711578</td>\n",
       "      <td>275.000000</td>\n",
       "      <td>998.000000</td>\n",
       "      <td>0</td>\n",
       "      <td>1995-01-01</td>\n",
       "    </tr>\n",
       "    <tr>\n",
       "      <th>403</th>\n",
       "      <td>540</td>\n",
       "      <td>585</td>\n",
       "      <td>27011</td>\n",
       "      <td>Freestyle Love Supreme</td>\n",
       "      <td>103.708633</td>\n",
       "      <td>['Utkarsh Ambudkar', 'Lin-Manuel Miranda', 'Ch...</td>\n",
       "      <td>['Ryan McFaul']</td>\n",
       "      <td>Not found</td>\n",
       "      <td>0.0</td>\n",
       "      <td>['actor: [', '{', '@type: Person', 'url: /name...</td>\n",
       "      <td>...</td>\n",
       "      <td>16132960.0</td>\n",
       "      <td>117</td>\n",
       "      <td>23</td>\n",
       "      <td>2019-09-15</td>\n",
       "      <td>136.997778</td>\n",
       "      <td>0.906589</td>\n",
       "      <td>302.555556</td>\n",
       "      <td>765.000000</td>\n",
       "      <td>0</td>\n",
       "      <td>2014-01-01</td>\n",
       "    </tr>\n",
       "    <tr>\n",
       "      <th>404</th>\n",
       "      <td>541</td>\n",
       "      <td>586</td>\n",
       "      <td>27012</td>\n",
       "      <td>The Will Rogers Follies</td>\n",
       "      <td>103.708633</td>\n",
       "      <td>['Keith Carradine', 'Dee Hoty', 'Roxane Barlow']</td>\n",
       "      <td>['Walter C. Miller']</td>\n",
       "      <td>Not found</td>\n",
       "      <td>0.0</td>\n",
       "      <td>['actor: [', '{', '@type: Person', 'url: /name...</td>\n",
       "      <td>...</td>\n",
       "      <td>0.0</td>\n",
       "      <td>981</td>\n",
       "      <td>33</td>\n",
       "      <td>1991-04-07</td>\n",
       "      <td>46.993543</td>\n",
       "      <td>0.781402</td>\n",
       "      <td>193.888814</td>\n",
       "      <td>1460.511811</td>\n",
       "      <td>0</td>\n",
       "      <td>1991-01-01</td>\n",
       "    </tr>\n",
       "    <tr>\n",
       "      <th>405</th>\n",
       "      <td>543</td>\n",
       "      <td>588</td>\n",
       "      <td>27014</td>\n",
       "      <td>Lord of the Dance: Dangerous Games</td>\n",
       "      <td>103.000000</td>\n",
       "      <td>['James Keegan', 'Thomas Cunningham', 'Carolin...</td>\n",
       "      <td>['Paul Dugdale']</td>\n",
       "      <td>Lord of the Dance: Veszélyes játékok</td>\n",
       "      <td>0.0</td>\n",
       "      <td>['contentRating: Not Rated', 'actor: [', '{', ...</td>\n",
       "      <td>...</td>\n",
       "      <td>11657834.0</td>\n",
       "      <td>58</td>\n",
       "      <td>4</td>\n",
       "      <td>2015-11-08</td>\n",
       "      <td>60.232500</td>\n",
       "      <td>0.438525</td>\n",
       "      <td>225.000000</td>\n",
       "      <td>1896.000000</td>\n",
       "      <td>0</td>\n",
       "      <td>2014-01-01</td>\n",
       "    </tr>\n",
       "    <tr>\n",
       "      <th>406</th>\n",
       "      <td>544</td>\n",
       "      <td>589</td>\n",
       "      <td>27015</td>\n",
       "      <td>Boeing-Boeing</td>\n",
       "      <td>45.000000</td>\n",
       "      <td>['David Tomlinson', 'Patrick Cargill', 'Andree...</td>\n",
       "      <td>['Jack Minster']</td>\n",
       "      <td>Not found</td>\n",
       "      <td>0.0</td>\n",
       "      <td>['Comedy', 'Drama']</td>\n",
       "      <td>...</td>\n",
       "      <td>25021640.0</td>\n",
       "      <td>279</td>\n",
       "      <td>17</td>\n",
       "      <td>2008-04-20</td>\n",
       "      <td>61.015263</td>\n",
       "      <td>0.711845</td>\n",
       "      <td>250.355263</td>\n",
       "      <td>1079.315789</td>\n",
       "      <td>0</td>\n",
       "      <td>1962-01-01</td>\n",
       "    </tr>\n",
       "  </tbody>\n",
       "</table>\n",
       "<p>407 rows × 30 columns</p>\n",
       "</div>"
      ],
      "text/plain": [
       "     Unnamed: 0  Unnamed: 0.1  index                               title  \\\n",
       "0             2             2     71                              Grease   \n",
       "1             5             5     85   Charlie and the Chocolate Factory   \n",
       "2             8             8    395                      Guys and Dolls   \n",
       "3            10            10    402                  The Sound of Music   \n",
       "4            11            11    403             Chitty Chitty Bang Bang   \n",
       "..          ...           ...    ...                                 ...   \n",
       "402         536           578  27000                    The Sound Inside   \n",
       "403         540           585  27011              Freestyle Love Supreme   \n",
       "404         541           586  27012             The Will Rogers Follies   \n",
       "405         543           588  27014  Lord of the Dance: Dangerous Games   \n",
       "406         544           589  27015                       Boeing-Boeing   \n",
       "\n",
       "     FILM_runtime                                         FILM_stars  \\\n",
       "0      110.000000  ['John Travolta', 'Olivia Newton-John', 'Stock...   \n",
       "1      115.000000  ['Johnny Depp', 'Freddie Highmore', 'David Kel...   \n",
       "2      150.000000  ['Marlon Brando', 'Jean Simmons', 'Frank Sinat...   \n",
       "3      172.000000  ['Julie Andrews', 'Christopher Plummer', 'Elea...   \n",
       "4      144.000000  ['Dick Van Dyke', 'Sally Ann Howes', 'Lionel J...   \n",
       "..            ...                                                ...   \n",
       "402    103.708633                                          Not found   \n",
       "403    103.708633  ['Utkarsh Ambudkar', 'Lin-Manuel Miranda', 'Ch...   \n",
       "404    103.708633   ['Keith Carradine', 'Dee Hoty', 'Roxane Barlow']   \n",
       "405    103.000000  ['James Keegan', 'Thomas Cunningham', 'Carolin...   \n",
       "406     45.000000  ['David Tomlinson', 'Patrick Cargill', 'Andree...   \n",
       "\n",
       "               FILM_directors  \\\n",
       "0          ['Randal Kleiser']   \n",
       "1              ['Tim Burton']   \n",
       "2    ['Joseph L. Mankiewicz']   \n",
       "3             ['Robert Wise']   \n",
       "4              ['Ken Hughes']   \n",
       "..                        ...   \n",
       "402         ['Dominic Allan']   \n",
       "403           ['Ryan McFaul']   \n",
       "404      ['Walter C. Miller']   \n",
       "405          ['Paul Dugdale']   \n",
       "406          ['Jack Minster']   \n",
       "\n",
       "                                              FILM_aka  FILM_oscars_won  \\\n",
       "0                                               Grease              1.0   \n",
       "1    Charlie and the Chocolate Factory: The IMAX Ex...              1.0   \n",
       "2                                       Guys and Dolls              4.0   \n",
       "3         Rodgers and Hammerstein's the Sound of Music              0.0   \n",
       "4                              Chitty Chitty Bang Bang              1.0   \n",
       "..                                                 ...              ...   \n",
       "402                                          Not found              0.0   \n",
       "403                                          Not found              0.0   \n",
       "404                                          Not found              0.0   \n",
       "405               Lord of the Dance: Veszélyes játékok              0.0   \n",
       "406                                          Not found              0.0   \n",
       "\n",
       "                                           FILM_genres  ...  \\\n",
       "0                               ['Musical', 'Romance']  ...   \n",
       "1    ['Adventure', 'Comedy', 'Family', 'Fantasy', '...  ...   \n",
       "2            ['Comedy', 'Crime', 'Musical', 'Romance']  ...   \n",
       "3    ['Biography', 'Drama', 'Family', 'Musical', 'R...  ...   \n",
       "4        ['Adventure', 'Family', 'Fantasy', 'Musical']  ...   \n",
       "..                                                 ...  ...   \n",
       "402  ['director: {', '@type: Person', 'url: /name/n...  ...   \n",
       "403  ['actor: [', '{', '@type: Person', 'url: /name...  ...   \n",
       "404  ['actor: [', '{', '@type: Person', 'url: /name...  ...   \n",
       "405  ['contentRating: Not Rated', 'actor: [', '{', ...  ...   \n",
       "406                                ['Comedy', 'Drama']  ...   \n",
       "\n",
       "     BWAY_total_potential_gross  BWAY_total_performances  BWAY_total_previews  \\\n",
       "0                    75236934.0                     2059                   51   \n",
       "1                    57710896.0                      305                   27   \n",
       "2                    18653313.0                     1264                   61   \n",
       "3                    53138739.0                      533                   38   \n",
       "4                    48791929.0                      285                   34   \n",
       "..                          ...                      ...                  ...   \n",
       "402                  17243316.0                      100                   37   \n",
       "403                  16132960.0                      117                   23   \n",
       "404                         0.0                      981                   33   \n",
       "405                  11657834.0                       58                    4   \n",
       "406                  25021640.0                      279                   17   \n",
       "\n",
       "     BWAY_last_performance BWAY_avg_ticket_price BWAY_avg_capacity  \\\n",
       "0               1994-04-24             59.158427          0.863382   \n",
       "1               2017-04-02             99.095714          0.879214   \n",
       "2               1992-03-22             52.343795          0.849979   \n",
       "3               1998-02-08             53.843056          0.783207   \n",
       "4               2005-03-27             63.858537          0.745973   \n",
       "..                     ...                   ...               ...   \n",
       "402             2019-09-15             86.498889          0.711578   \n",
       "403             2019-09-15            136.997778          0.906589   \n",
       "404             1991-04-07             46.993543          0.781402   \n",
       "405             2015-11-08             60.232500          0.438525   \n",
       "406             2008-04-20             61.015263          0.711845   \n",
       "\n",
       "    BWAY_avg_top_ticket_price BWAY_avg_seats_in_theatre  \\\n",
       "0                  138.586124               1082.404494   \n",
       "1                  233.000000               1496.000000   \n",
       "2                  275.000000               1273.861446   \n",
       "3                   75.069444               1435.750000   \n",
       "4                  115.884146               1806.926829   \n",
       "..                        ...                       ...   \n",
       "402                275.000000                998.000000   \n",
       "403                302.555556                765.000000   \n",
       "404                193.888814               1460.511811   \n",
       "405                225.000000               1896.000000   \n",
       "406                250.355263               1079.315789   \n",
       "\n",
       "    FILM_mpaa_rating_number  FILM_release_year  \n",
       "0                         2         1978-01-01  \n",
       "1                         2         2005-01-01  \n",
       "2                         0         1955-01-01  \n",
       "3                         1         1965-01-01  \n",
       "4                         1         1968-01-01  \n",
       "..                      ...                ...  \n",
       "402                       0         1995-01-01  \n",
       "403                       0         2014-01-01  \n",
       "404                       0         1991-01-01  \n",
       "405                       0         2014-01-01  \n",
       "406                       0         1962-01-01  \n",
       "\n",
       "[407 rows x 30 columns]"
      ]
     },
     "execution_count": 11,
     "metadata": {},
     "output_type": "execute_result"
    }
   ],
   "source": [
    "df"
   ]
  },
  {
   "cell_type": "code",
   "execution_count": null,
   "metadata": {},
   "outputs": [],
   "source": []
  },
  {
   "cell_type": "code",
   "execution_count": null,
   "metadata": {},
   "outputs": [],
   "source": []
  },
  {
   "cell_type": "code",
   "execution_count": null,
   "metadata": {},
   "outputs": [],
   "source": []
  },
  {
   "cell_type": "code",
   "execution_count": null,
   "metadata": {},
   "outputs": [],
   "source": []
  },
  {
   "cell_type": "code",
   "execution_count": null,
   "metadata": {},
   "outputs": [],
   "source": []
  },
  {
   "cell_type": "code",
   "execution_count": 66,
   "metadata": {},
   "outputs": [],
   "source": [
    "from sklearn.model_selection import train_test_split\n",
    "x_train, x_test, y_train, y_test = train_test_split(newX, newy, test_size = 1/3)"
   ]
  },
  {
   "cell_type": "code",
   "execution_count": 69,
   "metadata": {},
   "outputs": [
    {
     "data": {
      "text/plain": [
       "LinearRegression()"
      ]
     },
     "execution_count": 69,
     "metadata": {},
     "output_type": "execute_result"
    }
   ],
   "source": [
    "lr.fit(x_train, y_train)"
   ]
  },
  {
   "cell_type": "code",
   "execution_count": 71,
   "metadata": {},
   "outputs": [
    {
     "data": {
      "text/plain": [
       "0.16213492702325427"
      ]
     },
     "execution_count": 71,
     "metadata": {},
     "output_type": "execute_result"
    }
   ],
   "source": [
    "lr.score(x_train, y_train)"
   ]
  },
  {
   "cell_type": "code",
   "execution_count": 72,
   "metadata": {},
   "outputs": [],
   "source": [
    "y_pred = lr.predict(x_test)"
   ]
  },
  {
   "cell_type": "code",
   "execution_count": 80,
   "metadata": {},
   "outputs": [
    {
     "data": {
      "text/plain": [
       "(364,)"
      ]
     },
     "execution_count": 80,
     "metadata": {},
     "output_type": "execute_result"
    }
   ],
   "source": [
    "y_train.shape"
   ]
  },
  {
   "cell_type": "code",
   "execution_count": 84,
   "metadata": {},
   "outputs": [
    {
     "data": {
      "image/png": "[encoded data removed]",
      "text/plain": [
       "<Figure size 432x288 with 1 Axes>"
      ]
     },
     "metadata": {
      "needs_background": "light"
     },
     "output_type": "display_data"
    }
   ],
   "source": [
    "#plt.scatter(x_train, y_train, color = \"red\")\n",
    "plt.plot(x_train, lr.predict(x_train), color = \"green\")\n",
    "plt.title(\"Salary vs Experience (Training set)\")\n",
    "plt.xlabel(\"Years of Experience\")\n",
    "plt.ylabel(\"Salary\")\n",
    "plt.show()"
   ]
  },
  {
   "cell_type": "code",
   "execution_count": null,
   "metadata": {},
   "outputs": [],
   "source": []
  },
  {
   "cell_type": "code",
   "execution_count": null,
   "metadata": {},
   "outputs": [],
   "source": []
  },
  {
   "cell_type": "code",
   "execution_count": null,
   "metadata": {},
   "outputs": [],
   "source": []
  },
  {
   "cell_type": "code",
   "execution_count": null,
   "metadata": {},
   "outputs": [],
   "source": []
  },
  {
   "cell_type": "code",
   "execution_count": null,
   "metadata": {},
   "outputs": [],
   "source": []
  },
  {
   "cell_type": "code",
   "execution_count": 40,
   "metadata": {},
   "outputs": [
    {
     "data": {
      "text/plain": [
       "array([ 3.20464345e+05,  1.81467548e+00,  3.91164822e+06, -4.34362383e-01,\n",
       "        4.08719475e-01,  5.29017701e+06,  3.20464345e+05])"
      ]
     },
     "execution_count": 40,
     "metadata": {},
     "output_type": "execute_result"
    }
   ],
   "source": [
    "lr.coef_"
   ]
  },
  {
   "cell_type": "code",
   "execution_count": 5,
   "metadata": {},
   "outputs": [
    {
     "data": {
      "text/html": [
       "<div>\n",
       "<style scoped>\n",
       "    .dataframe tbody tr th:only-of-type {\n",
       "        vertical-align: middle;\n",
       "    }\n",
       "\n",
       "    .dataframe tbody tr th {\n",
       "        vertical-align: top;\n",
       "    }\n",
       "\n",
       "    .dataframe thead th {\n",
       "        text-align: right;\n",
       "    }\n",
       "</style>\n",
       "<table border=\"1\" class=\"dataframe\">\n",
       "  <thead>\n",
       "    <tr style=\"text-align: right;\">\n",
       "      <th></th>\n",
       "      <th>FILM_runtime</th>\n",
       "      <th>FILM_budget</th>\n",
       "      <th>FILM_oscars_won</th>\n",
       "      <th>FILM_domestic_gross</th>\n",
       "      <th>FILM_worldwide_gross</th>\n",
       "      <th>FILM_mpaa_rating_number</th>\n",
       "      <th>FILM_runtime</th>\n",
       "      <th>BWAY_total_weekly_gross</th>\n",
       "    </tr>\n",
       "  </thead>\n",
       "  <tbody>\n",
       "    <tr>\n",
       "      <th>0</th>\n",
       "      <td>129.000000</td>\n",
       "      <td>1.600000e+08</td>\n",
       "      <td>2.0</td>\n",
       "      <td>5.044812e+08</td>\n",
       "      <td>1.264064e+09</td>\n",
       "      <td>2</td>\n",
       "      <td>129.000000</td>\n",
       "      <td>4.291585e+08</td>\n",
       "    </tr>\n",
       "    <tr>\n",
       "      <th>1</th>\n",
       "      <td>160.000000</td>\n",
       "      <td>1.870291e+07</td>\n",
       "      <td>0.0</td>\n",
       "      <td>6.669267e+07</td>\n",
       "      <td>1.174601e+08</td>\n",
       "      <td>3</td>\n",
       "      <td>160.000000</td>\n",
       "      <td>6.453351e+08</td>\n",
       "    </tr>\n",
       "    <tr>\n",
       "      <th>2</th>\n",
       "      <td>110.000000</td>\n",
       "      <td>6.000000e+06</td>\n",
       "      <td>1.0</td>\n",
       "      <td>1.900711e+08</td>\n",
       "      <td>3.972175e+08</td>\n",
       "      <td>2</td>\n",
       "      <td>110.000000</td>\n",
       "      <td>1.198180e+08</td>\n",
       "    </tr>\n",
       "    <tr>\n",
       "      <th>3</th>\n",
       "      <td>118.000000</td>\n",
       "      <td>2.600000e+08</td>\n",
       "      <td>1.0</td>\n",
       "      <td>5.436380e+08</td>\n",
       "      <td>1.656964e+09</td>\n",
       "      <td>2</td>\n",
       "      <td>118.000000</td>\n",
       "      <td>1.677802e+09</td>\n",
       "    </tr>\n",
       "    <tr>\n",
       "      <th>4</th>\n",
       "      <td>103.708633</td>\n",
       "      <td>1.000000e+08</td>\n",
       "      <td>0.0</td>\n",
       "      <td>6.669267e+07</td>\n",
       "      <td>1.174601e+08</td>\n",
       "      <td>0</td>\n",
       "      <td>103.708633</td>\n",
       "      <td>1.113135e+08</td>\n",
       "    </tr>\n",
       "    <tr>\n",
       "      <th>...</th>\n",
       "      <td>...</td>\n",
       "      <td>...</td>\n",
       "      <td>...</td>\n",
       "      <td>...</td>\n",
       "      <td>...</td>\n",
       "      <td>...</td>\n",
       "      <td>...</td>\n",
       "      <td>...</td>\n",
       "    </tr>\n",
       "    <tr>\n",
       "      <th>542</th>\n",
       "      <td>100.000000</td>\n",
       "      <td>1.870291e+07</td>\n",
       "      <td>0.0</td>\n",
       "      <td>6.669267e+07</td>\n",
       "      <td>1.174601e+08</td>\n",
       "      <td>0</td>\n",
       "      <td>100.000000</td>\n",
       "      <td>1.331285e+06</td>\n",
       "    </tr>\n",
       "    <tr>\n",
       "      <th>543</th>\n",
       "      <td>103.000000</td>\n",
       "      <td>1.870291e+07</td>\n",
       "      <td>0.0</td>\n",
       "      <td>6.669267e+07</td>\n",
       "      <td>1.174601e+08</td>\n",
       "      <td>0</td>\n",
       "      <td>103.000000</td>\n",
       "      <td>3.118954e+06</td>\n",
       "    </tr>\n",
       "    <tr>\n",
       "      <th>544</th>\n",
       "      <td>45.000000</td>\n",
       "      <td>1.870291e+07</td>\n",
       "      <td>0.0</td>\n",
       "      <td>6.669267e+07</td>\n",
       "      <td>1.174601e+08</td>\n",
       "      <td>0</td>\n",
       "      <td>45.000000</td>\n",
       "      <td>1.395156e+07</td>\n",
       "    </tr>\n",
       "    <tr>\n",
       "      <th>545</th>\n",
       "      <td>88.000000</td>\n",
       "      <td>1.870291e+07</td>\n",
       "      <td>0.0</td>\n",
       "      <td>6.669267e+07</td>\n",
       "      <td>1.174601e+08</td>\n",
       "      <td>0</td>\n",
       "      <td>88.000000</td>\n",
       "      <td>8.837623e+06</td>\n",
       "    </tr>\n",
       "    <tr>\n",
       "      <th>546</th>\n",
       "      <td>104.000000</td>\n",
       "      <td>1.900000e+06</td>\n",
       "      <td>0.0</td>\n",
       "      <td>6.669267e+07</td>\n",
       "      <td>1.174601e+08</td>\n",
       "      <td>5</td>\n",
       "      <td>104.000000</td>\n",
       "      <td>1.016012e+07</td>\n",
       "    </tr>\n",
       "  </tbody>\n",
       "</table>\n",
       "<p>547 rows × 8 columns</p>\n",
       "</div>"
      ],
      "text/plain": [
       "     FILM_runtime   FILM_budget  FILM_oscars_won  FILM_domestic_gross  \\\n",
       "0      129.000000  1.600000e+08              2.0         5.044812e+08   \n",
       "1      160.000000  1.870291e+07              0.0         6.669267e+07   \n",
       "2      110.000000  6.000000e+06              1.0         1.900711e+08   \n",
       "3      118.000000  2.600000e+08              1.0         5.436380e+08   \n",
       "4      103.708633  1.000000e+08              0.0         6.669267e+07   \n",
       "..            ...           ...              ...                  ...   \n",
       "542    100.000000  1.870291e+07              0.0         6.669267e+07   \n",
       "543    103.000000  1.870291e+07              0.0         6.669267e+07   \n",
       "544     45.000000  1.870291e+07              0.0         6.669267e+07   \n",
       "545     88.000000  1.870291e+07              0.0         6.669267e+07   \n",
       "546    104.000000  1.900000e+06              0.0         6.669267e+07   \n",
       "\n",
       "     FILM_worldwide_gross  FILM_mpaa_rating_number  FILM_runtime  \\\n",
       "0            1.264064e+09                        2    129.000000   \n",
       "1            1.174601e+08                        3    160.000000   \n",
       "2            3.972175e+08                        2    110.000000   \n",
       "3            1.656964e+09                        2    118.000000   \n",
       "4            1.174601e+08                        0    103.708633   \n",
       "..                    ...                      ...           ...   \n",
       "542          1.174601e+08                        0    100.000000   \n",
       "543          1.174601e+08                        0    103.000000   \n",
       "544          1.174601e+08                        0     45.000000   \n",
       "545          1.174601e+08                        0     88.000000   \n",
       "546          1.174601e+08                        5    104.000000   \n",
       "\n",
       "     BWAY_total_weekly_gross  \n",
       "0               4.291585e+08  \n",
       "1               6.453351e+08  \n",
       "2               1.198180e+08  \n",
       "3               1.677802e+09  \n",
       "4               1.113135e+08  \n",
       "..                       ...  \n",
       "542             1.331285e+06  \n",
       "543             3.118954e+06  \n",
       "544             1.395156e+07  \n",
       "545             8.837623e+06  \n",
       "546             1.016012e+07  \n",
       "\n",
       "[547 rows x 8 columns]"
      ]
     },
     "execution_count": 5,
     "metadata": {},
     "output_type": "execute_result"
    }
   ],
   "source": [
    "df[['FILM_runtime', 'FILM_budget', 'FILM_oscars_won', 'FILM_domestic_gross', 'FILM_worldwide_gross',\n",
    "          'FILM_mpaa_rating_number', 'FILM_runtime', 'BWAY_total_weekly_gross']]"
   ]
  },
  {
   "cell_type": "code",
   "execution_count": 8,
   "metadata": {},
   "outputs": [],
   "source": [
    "small_df = df[['FILM_runtime', 'FILM_budget', 'FILM_domestic_gross', 'FILM_worldwide_gross', 'BWAY_total_weekly_gross']]\n",
    "\n"
   ]
  },
  {
   "cell_type": "code",
   "execution_count": 34,
   "metadata": {},
   "outputs": [
    {
     "data": {
      "text/plain": [
       "<matplotlib.axes._subplots.AxesSubplot at 0x1423f2b50>"
      ]
     },
     "execution_count": 34,
     "metadata": {},
     "output_type": "execute_result"
    },
    {
     "data": {
      "image/png": "[encoded data removed]",
      "text/plain": [
       "<Figure size 432x288 with 1 Axes>"
      ]
     },
     "metadata": {
      "needs_background": "light"
     },
     "output_type": "display_data"
    }
   ],
   "source": [
    "test_x = df['FILM_oscars_won']**2\n",
    "\n",
    "sns.scatterplot(data=df, x=test_x, y='BWAY_total_performances')"
   ]
  },
  {
   "cell_type": "code",
   "execution_count": null,
   "metadata": {},
   "outputs": [],
   "source": []
  },
  {
   "cell_type": "code",
   "execution_count": null,
   "metadata": {},
   "outputs": [],
   "source": [
    "'FILM_runtime', 'FILM_budget', 'FILM_domestic_gross', 'FILM_worldwide_gross'"
   ]
  },
  {
   "cell_type": "code",
   "execution_count": 24,
   "metadata": {},
   "outputs": [],
   "source": [
    "na_list = [['BWAY_total_weekly_gross'],\n",
    "       'BWAY_total_potential_gross', 'BWAY_total_performances',\n",
    "       'BWAY_total_previews', 'BWAY_avg_ticket_price',\n",
    "       'BWAY_avg_capacity', 'BWAY_avg_top_ticket_price',\n",
    "       'BWAY_avg_seats_in_theatre']\n",
    "\n",
    "df.FILM_worldwide_gross = df.FILM_worldwide_gross.fillna(df.FILM_worldwide_gross.mean())"
   ]
  },
  {
   "cell_type": "code",
   "execution_count": 29,
   "metadata": {},
   "outputs": [
    {
     "data": {
      "text/plain": [
       "array([nan])"
      ]
     },
     "execution_count": 29,
     "metadata": {},
     "output_type": "execute_result"
    }
   ],
   "source": [
    "df.FILM_budget.unique()"
   ]
  },
  {
   "cell_type": "code",
   "execution_count": null,
   "metadata": {},
   "outputs": [],
   "source": [
    "X = df[['BWAY_total_weekly_gross',\n",
    "       'BWAY_total_potential_gross', 'BWAY_total_performances',\n",
    "       'BWAY_total_previews', 'BWAY_avg_ticket_price',\n",
    "       'BWAY_avg_capacity', 'BWAY_avg_top_ticket_price',\n",
    "       'BWAY_avg_seats_in_theatre']]"
   ]
  }
 ],
 "metadata": {
  "kernelspec": {
   "display_name": "Python 3",
   "language": "python",
   "name": "python3"
  },
  "language_info": {
   "codemirror_mode": {
    "name": "ipython",
    "version": 3
   },
   "file_extension": ".py",
   "mimetype": "text/x-python",
   "name": "python",
   "nbconvert_exporter": "python",
   "pygments_lexer": "ipython3",
   "version": "3.8.3"
  }
 },
 "nbformat": 4,
 "nbformat_minor": 4
}
